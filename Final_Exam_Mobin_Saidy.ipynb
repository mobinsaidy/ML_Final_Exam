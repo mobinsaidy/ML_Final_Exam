{
  "nbformat": 4,
  "nbformat_minor": 0,
  "metadata": {
    "colab": {
      "name": "Final_Exam_Mobin_Saidy.ipynb",
      "provenance": [],
      "collapsed_sections": [],
      "authorship_tag": "ABX9TyOVE0wxsH8kHTJt3MSe+wlf",
      "include_colab_link": true
    },
    "kernelspec": {
      "name": "python3",
      "display_name": "Python 3"
    },
    "language_info": {
      "name": "python"
    }
  },
  "cells": [
    {
      "cell_type": "markdown",
      "metadata": {
        "id": "view-in-github",
        "colab_type": "text"
      },
      "source": [
        "<a href=\"https://colab.research.google.com/github/mobinsaidy/ML_Final_Exam/blob/main/Final_Exam_Mobin_Saidy.ipynb\" target=\"_parent\"><img src=\"https://colab.research.google.com/assets/colab-badge.svg\" alt=\"Open In Colab\"/></a>"
      ]
    },
    {
      "cell_type": "markdown",
      "metadata": {
        "id": "ukhcw9gl3sjW"
      },
      "source": [
        "# **Final Exam - Air pullution(question 1)**\n",
        "Mobin Saidy - 96100833"
      ]
    },
    {
      "cell_type": "markdown",
      "metadata": {
        "id": "LZNR0NEH4a8O"
      },
      "source": [
        "In this notebook i will try to make a model which predicts tehran's air Pullution. \n",
        "if we want to predict more precisely, we should make a model for each region of tehran and predict depending on region. for simplicity we only make a model for one of the regions (in fact the station we get our data is located at the border of region 6 and 11, so somehow we will make a model for parts of these two regions which are closer to their border) and for other regions we should get the data of stations located in them and the process we do here for them.\n",
        "the model we build will get a day's average temperture, pressure and wind speed and predict the next day's air pollution."
      ]
    },
    {
      "cell_type": "markdown",
      "metadata": {
        "id": "PnK-zqwvogQu"
      },
      "source": [
        "first we import needed libraries:"
      ]
    },
    {
      "cell_type": "code",
      "metadata": {
        "id": "aI4-Gqp6xc9I"
      },
      "source": [
        "import pandas as pd\n",
        "import numpy as np\n",
        "import matplotlib.pyplot as plt\n",
        "import datetime\n",
        "from sklearn.model_selection import train_test_split\n",
        "from sklearn.tree import DecisionTreeRegressor\n",
        "from sklearn.model_selection import ShuffleSplit\n",
        "from sklearn.model_selection import learning_curve, validation_curve\n",
        "from sklearn.preprocessing import MinMaxScaler, StandardScaler, RobustScaler\n",
        "from sklearn.decomposition import PCA\n",
        "from sklearn.tree import DecisionTreeRegressor"
      ],
      "execution_count": 57,
      "outputs": []
    },
    {
      "cell_type": "markdown",
      "metadata": {
        "id": "9_1GkZe7orRt"
      },
      "source": [
        "we write a function which helps us plot learning curve:"
      ]
    },
    {
      "cell_type": "code",
      "metadata": {
        "id": "6drj7iyPLowl"
      },
      "source": [
        "def plot_learning_curve(estimator, title, X, y, ylim=None, cv=None, n_jobs=None, train_sizes=np.linspace(0.1, 1, 10)):\n",
        "    \n",
        "    plt.figure(figsize=(10, 6), dpi=80)\n",
        "    plt.title(title)\n",
        "    if ylim is not None:\n",
        "        plt.ylim(*ylim)\n",
        "    plt.xlabel(\"Training examples\")\n",
        "    plt.ylabel(\"Score\")\n",
        "    train_sizes, train_scores, test_scores = learning_curve(\n",
        "        estimator, X, y, cv=cv, n_jobs=n_jobs, train_sizes=train_sizes)\n",
        "    train_scores_mean = np.mean(train_scores, axis=1)\n",
        "    train_scores_std = np.std(train_scores, axis=1)\n",
        "    test_scores_mean = np.mean(test_scores, axis=1)\n",
        "    test_scores_std = np.std(test_scores, axis=1)\n",
        "    plt.grid()\n",
        "\n",
        "    plt.fill_between(train_sizes, train_scores_mean - train_scores_std,\n",
        "                     train_scores_mean + train_scores_std, alpha=0.1,\n",
        "                     color=\"r\")\n",
        "    plt.fill_between(train_sizes, test_scores_mean - test_scores_std,\n",
        "                     test_scores_mean + test_scores_std, alpha=0.1, color=\"g\")\n",
        "    plt.plot(train_sizes, train_scores_mean, 'o-', color=\"r\",\n",
        "             label=\"Training score\")\n",
        "    plt.plot(train_sizes, test_scores_mean, 'o-', color=\"g\",\n",
        "             label=\"Cross-validation score\")\n",
        "\n",
        "    plt.legend(loc=\"best\")\n",
        "    return plt"
      ],
      "execution_count": 2,
      "outputs": []
    },
    {
      "cell_type": "markdown",
      "metadata": {
        "id": "a0HNEfE8o-q7"
      },
      "source": [
        "we write a function which helps us plot validation curve:"
      ]
    },
    {
      "cell_type": "code",
      "metadata": {
        "id": "qNLeTZIfHhIh"
      },
      "source": [
        "def plot_validation_curve(estimator, X, Y, param_range, param_name, cv=None, Modelname='', n_jobs=None, xlog=False):\n",
        "  \n",
        "  clf = estimator\n",
        "  train_scores, test_scores = validation_curve(\n",
        "      clf, X, Y, cv=cv, n_jobs=n_jobs, \n",
        "      param_name=param_name, param_range=param_range)\n",
        "  \n",
        "  train_scores_mean = np.mean(train_scores, axis=1)\n",
        "  train_scores_std = np.std(train_scores, axis=1)\n",
        "  test_scores_mean = np.mean(test_scores, axis=1)\n",
        "  test_scores_std = np.std(test_scores, axis=1)\n",
        "\n",
        "  plt.figure(figsize=(8, 6), dpi=80)\n",
        "  plt.title(f\"Validation Curve with {Modelname}\")\n",
        "  plt.xlabel(f\"{param_name}\")\n",
        "  plt.ylabel(\"Score\")\n",
        "  plt.ylim(0.0, 1.1)\n",
        "  lw = 2\n",
        "  \n",
        "  if (xlog):\n",
        "    plt.semilogx(param_range, train_scores_mean, label=\"Training score\",\n",
        "             color=\"darkorange\", lw=lw)\n",
        "    plt.semilogx(param_range, test_scores_mean, label=\"Cross-validation score\",\n",
        "             color=\"navy\", lw=lw)\n",
        "  else:\n",
        "    plt.plot(param_range, train_scores_mean, label=\"Training score\",\n",
        "             color=\"darkorange\", lw=lw)\n",
        "    plt.plot(param_range, test_scores_mean, label=\"Cross-validation score\",\n",
        "             color=\"navy\", lw=lw)\n",
        "\n",
        "  plt.fill_between(param_range, train_scores_mean - train_scores_std,\n",
        "                 train_scores_mean + train_scores_std, alpha=0.2,\n",
        "                 color=\"darkorange\", lw=lw)\n",
        "  plt.fill_between(param_range, test_scores_mean - test_scores_std,\n",
        "                 test_scores_mean + test_scores_std, alpha=0.2,\n",
        "                 color=\"navy\", lw=lw)\n",
        "  plt.legend(loc=\"best\")\n",
        "  return plt"
      ],
      "execution_count": 3,
      "outputs": []
    },
    {
      "cell_type": "markdown",
      "metadata": {
        "id": "_SG30U2nsPk4"
      },
      "source": [
        "now it's time to import data. i get my needed data from two sources. first i get tehran's climate data of past four years from: https://meteostat.net/en/station/40754?t=2018-01-01/2018-12-31 \n",
        "then i get air quality data of tehran university station for past 35 months from: https://aqicn.org/data-platform/register/\n",
        "\n",
        "i wish i could get air quality data for more than 35 months but unfortunately 35 was the limit. the data was really hard to find at overall.\n",
        "i uploaded the two databases mentioned above to a github repo and now i clone that repo here and open the databases."
      ]
    },
    {
      "cell_type": "code",
      "metadata": {
        "colab": {
          "base_uri": "https://localhost:8080/"
        },
        "id": "NqdvOC6x9-fL",
        "outputId": "e81cd816-69af-4cf9-94b1-f7dde79ee79c"
      },
      "source": [
        "! git clone https://github.com/mobinsaidy/data.git"
      ],
      "execution_count": 4,
      "outputs": [
        {
          "output_type": "stream",
          "text": [
            "Cloning into 'data'...\n",
            "remote: Enumerating objects: 13, done.\u001b[K\n",
            "remote: Counting objects: 100% (13/13), done.\u001b[K\n",
            "remote: Compressing objects: 100% (13/13), done.\u001b[K\n",
            "remote: Total 13 (delta 2), reused 0 (delta 0), pack-reused 0\u001b[K\n",
            "Unpacking objects: 100% (13/13), done.\n"
          ],
          "name": "stdout"
        }
      ]
    },
    {
      "cell_type": "code",
      "metadata": {
        "id": "zl9SUsNt_IUE"
      },
      "source": [
        "df1 = pd.read_csv(\"data/Tehran_climate_data.csv\")\n",
        "df2 = pd.read_csv(\"data/tehran_university_air_quality_data.csv\")"
      ],
      "execution_count": 6,
      "outputs": []
    },
    {
      "cell_type": "markdown",
      "metadata": {
        "id": "kcdhsjpZuDTl"
      },
      "source": [
        "lets take a look at the data:"
      ]
    },
    {
      "cell_type": "code",
      "metadata": {
        "colab": {
          "base_uri": "https://localhost:8080/",
          "height": 203
        },
        "id": "7kwtijbXuHWc",
        "outputId": "c0a22e0c-fde0-43c6-9c63-4e3796db6ed7"
      },
      "source": [
        "df1.head()"
      ],
      "execution_count": 7,
      "outputs": [
        {
          "output_type": "execute_result",
          "data": {
            "text/html": [
              "<div>\n",
              "<style scoped>\n",
              "    .dataframe tbody tr th:only-of-type {\n",
              "        vertical-align: middle;\n",
              "    }\n",
              "\n",
              "    .dataframe tbody tr th {\n",
              "        vertical-align: top;\n",
              "    }\n",
              "\n",
              "    .dataframe thead th {\n",
              "        text-align: right;\n",
              "    }\n",
              "</style>\n",
              "<table border=\"1\" class=\"dataframe\">\n",
              "  <thead>\n",
              "    <tr style=\"text-align: right;\">\n",
              "      <th></th>\n",
              "      <th>Unnamed: 0</th>\n",
              "      <th>tavg</th>\n",
              "      <th>wspd</th>\n",
              "      <th>pres</th>\n",
              "    </tr>\n",
              "  </thead>\n",
              "  <tbody>\n",
              "    <tr>\n",
              "      <th>0</th>\n",
              "      <td>1/1/2016</td>\n",
              "      <td>9.3</td>\n",
              "      <td>7.5</td>\n",
              "      <td>NaN</td>\n",
              "    </tr>\n",
              "    <tr>\n",
              "      <th>1</th>\n",
              "      <td>1/2/2016</td>\n",
              "      <td>6.7</td>\n",
              "      <td>15.6</td>\n",
              "      <td>NaN</td>\n",
              "    </tr>\n",
              "    <tr>\n",
              "      <th>2</th>\n",
              "      <td>1/3/2016</td>\n",
              "      <td>2.4</td>\n",
              "      <td>20.0</td>\n",
              "      <td>NaN</td>\n",
              "    </tr>\n",
              "    <tr>\n",
              "      <th>3</th>\n",
              "      <td>1/4/2016</td>\n",
              "      <td>3.1</td>\n",
              "      <td>17.1</td>\n",
              "      <td>NaN</td>\n",
              "    </tr>\n",
              "    <tr>\n",
              "      <th>4</th>\n",
              "      <td>1/5/2016</td>\n",
              "      <td>6.9</td>\n",
              "      <td>9.8</td>\n",
              "      <td>1019.3</td>\n",
              "    </tr>\n",
              "  </tbody>\n",
              "</table>\n",
              "</div>"
            ],
            "text/plain": [
              "  Unnamed: 0  tavg  wspd    pres\n",
              "0   1/1/2016   9.3   7.5     NaN\n",
              "1   1/2/2016   6.7  15.6     NaN\n",
              "2   1/3/2016   2.4  20.0     NaN\n",
              "3   1/4/2016   3.1  17.1     NaN\n",
              "4   1/5/2016   6.9   9.8  1019.3"
            ]
          },
          "metadata": {
            "tags": []
          },
          "execution_count": 7
        }
      ]
    },
    {
      "cell_type": "markdown",
      "metadata": {
        "id": "4U1gtuOmv1fz"
      },
      "source": [
        "you can see df1 has date, \"tavg\" which is average temperture during the day, \"wspd\" which is average wind speed during the day and \"pres\" which is average pressure dering the day.\n",
        "ofcourse these features does not seem to be enough, we might need wind speed direction and humidity as well, but unfortunately we couldn't access them and we should continue our way without them."
      ]
    },
    {
      "cell_type": "code",
      "metadata": {
        "colab": {
          "base_uri": "https://localhost:8080/",
          "height": 203
        },
        "id": "38dD6-AEuNYU",
        "outputId": "d5ed8277-0ece-4407-e00a-49d7c7078697"
      },
      "source": [
        "df2.head()"
      ],
      "execution_count": 8,
      "outputs": [
        {
          "output_type": "execute_result",
          "data": {
            "text/html": [
              "<div>\n",
              "<style scoped>\n",
              "    .dataframe tbody tr th:only-of-type {\n",
              "        vertical-align: middle;\n",
              "    }\n",
              "\n",
              "    .dataframe tbody tr th {\n",
              "        vertical-align: top;\n",
              "    }\n",
              "\n",
              "    .dataframe thead th {\n",
              "        text-align: right;\n",
              "    }\n",
              "</style>\n",
              "<table border=\"1\" class=\"dataframe\">\n",
              "  <thead>\n",
              "    <tr style=\"text-align: right;\">\n",
              "      <th></th>\n",
              "      <th>date</th>\n",
              "      <th>pm25</th>\n",
              "      <th>no2</th>\n",
              "      <th>so2</th>\n",
              "      <th>co</th>\n",
              "    </tr>\n",
              "  </thead>\n",
              "  <tbody>\n",
              "    <tr>\n",
              "      <th>0</th>\n",
              "      <td>2021/6/2</td>\n",
              "      <td>62</td>\n",
              "      <td>29</td>\n",
              "      <td>16</td>\n",
              "      <td>36</td>\n",
              "    </tr>\n",
              "    <tr>\n",
              "      <th>1</th>\n",
              "      <td>2021/6/3</td>\n",
              "      <td>77</td>\n",
              "      <td></td>\n",
              "      <td></td>\n",
              "      <td></td>\n",
              "    </tr>\n",
              "    <tr>\n",
              "      <th>2</th>\n",
              "      <td>2021/6/6</td>\n",
              "      <td>69</td>\n",
              "      <td>22</td>\n",
              "      <td>28</td>\n",
              "      <td>22</td>\n",
              "    </tr>\n",
              "    <tr>\n",
              "      <th>3</th>\n",
              "      <td>2021/6/7</td>\n",
              "      <td>82</td>\n",
              "      <td>21</td>\n",
              "      <td>31</td>\n",
              "      <td>38</td>\n",
              "    </tr>\n",
              "    <tr>\n",
              "      <th>4</th>\n",
              "      <td>2021/6/8</td>\n",
              "      <td>76</td>\n",
              "      <td>26</td>\n",
              "      <td>26</td>\n",
              "      <td>39</td>\n",
              "    </tr>\n",
              "  </tbody>\n",
              "</table>\n",
              "</div>"
            ],
            "text/plain": [
              "       date  pm25  no2  so2   co\n",
              "0  2021/6/2    62   29   16   36\n",
              "1  2021/6/3    77               \n",
              "2  2021/6/6    69   22   28   22\n",
              "3  2021/6/7    82   21   31   38\n",
              "4  2021/6/8    76   26   26   39"
            ]
          },
          "metadata": {
            "tags": []
          },
          "execution_count": 8
        }
      ]
    },
    {
      "cell_type": "markdown",
      "metadata": {
        "id": "2ldRUBIyuVdX"
      },
      "source": [
        "df2 has date and numbers measuring pm25, no2, so2 and co rate in the air. for more simplicity we will only try to predict pm25 rate as a measure of air pullution or air quality, but we can also repeat the process and predict no2, so2 and co too."
      ]
    },
    {
      "cell_type": "markdown",
      "metadata": {
        "id": "o0A-QHQFyNJY"
      },
      "source": [
        "now for easier function we rename our labels:"
      ]
    },
    {
      "cell_type": "code",
      "metadata": {
        "id": "bImBY5Ic12bx"
      },
      "source": [
        "df1.columns=[\"date\",\"t\",\"ws\",\"p\"]\n",
        "df2.columns=[\"date\",\"pm25\",\"no2\",\"so2\",\"co\"]"
      ],
      "execution_count": 9,
      "outputs": []
    },
    {
      "cell_type": "markdown",
      "metadata": {
        "id": "kClEUToCyo07"
      },
      "source": [
        "now we should cross our two data bases. first we transform df2 dates to a more familiar format:"
      ]
    },
    {
      "cell_type": "code",
      "metadata": {
        "id": "a4l0z1jC0IoQ"
      },
      "source": [
        "for i in range(0,len(df2)):\n",
        "  date_list = str(df2.at[i,\"date\"]).split(\"/\")\n",
        "  date_better_form = datetime.date(int(date_list[0]),int(date_list[1]),int(date_list[2]))\n",
        "  df2.at[i,\"date\"] = str(date_better_form)"
      ],
      "execution_count": 10,
      "outputs": []
    },
    {
      "cell_type": "markdown",
      "metadata": {
        "id": "USBFx7MHzL1r"
      },
      "source": [
        "here we have to add one day to df1 dates beacause average temperture, pressure and wind speed in df1 should be considered next day's data. after that we transform df1 dates to a more familiar format too."
      ]
    },
    {
      "cell_type": "code",
      "metadata": {
        "id": "d3gQDACmx7yl"
      },
      "source": [
        "for i in range(0,len(df1)):\n",
        "  date_list = str(df1.at[i,\"date\"]).split(\"/\")\n",
        "  old_date = datetime.date(int(date_list[2]),int(date_list[0]),int(date_list[1]))\n",
        "  delta_day = datetime.timedelta(1)\n",
        "  new_date = old_date + delta_day\n",
        "  df1.at[i,\"date\"] = str(new_date)"
      ],
      "execution_count": 11,
      "outputs": []
    },
    {
      "cell_type": "markdown",
      "metadata": {
        "id": "IXuZrIb90WvM"
      },
      "source": [
        "here we make a new data frame for saving df1 and df2 crossed data:"
      ]
    },
    {
      "cell_type": "code",
      "metadata": {
        "id": "GyezcdeEHbzQ"
      },
      "source": [
        "df = pd.DataFrame(columns=[\"date\",\"t\",\"ws\",\"p\",\"pm25\"])"
      ],
      "execution_count": 12,
      "outputs": []
    },
    {
      "cell_type": "markdown",
      "metadata": {
        "id": "AIxtSi500lfN"
      },
      "source": [
        "now we search df1 and df2 and find dates which exist in both of them and combine and save their data to df:"
      ]
    },
    {
      "cell_type": "code",
      "metadata": {
        "id": "11ZaRibIAvNi"
      },
      "source": [
        "k = 0\n",
        "for i in range(0,len(df1)):\n",
        "  for j in range(0,len(df2)):\n",
        "    if df2.at[j, \"date\"] == df1.at[i, \"date\"]:\n",
        "      df.at[k, \"date\"] = df2.at[j, \"date\"]\n",
        "      df.at[k, \"pm25\"] = df2.at[j, \"pm25\"]\n",
        "      df.at[k, \"t\"] = df1.at[i, \"t\"]\n",
        "      df.at[k, \"ws\"] = df1.at[i, \"ws\"]\n",
        "      df.at[k, \"p\"] = df1.at[i, \"p\"]\n",
        "      k += 1"
      ],
      "execution_count": 13,
      "outputs": []
    },
    {
      "cell_type": "markdown",
      "metadata": {
        "id": "Zp-xG-Oo1IJV"
      },
      "source": [
        "lets take a look at df:"
      ]
    },
    {
      "cell_type": "code",
      "metadata": {
        "colab": {
          "base_uri": "https://localhost:8080/",
          "height": 203
        },
        "id": "jYI4iPrc2CjH",
        "outputId": "0ee3222e-4179-489d-bfd0-479eea7cf2f2"
      },
      "source": [
        "df.head()"
      ],
      "execution_count": 14,
      "outputs": [
        {
          "output_type": "execute_result",
          "data": {
            "text/html": [
              "<div>\n",
              "<style scoped>\n",
              "    .dataframe tbody tr th:only-of-type {\n",
              "        vertical-align: middle;\n",
              "    }\n",
              "\n",
              "    .dataframe tbody tr th {\n",
              "        vertical-align: top;\n",
              "    }\n",
              "\n",
              "    .dataframe thead th {\n",
              "        text-align: right;\n",
              "    }\n",
              "</style>\n",
              "<table border=\"1\" class=\"dataframe\">\n",
              "  <thead>\n",
              "    <tr style=\"text-align: right;\">\n",
              "      <th></th>\n",
              "      <th>date</th>\n",
              "      <th>t</th>\n",
              "      <th>ws</th>\n",
              "      <th>p</th>\n",
              "      <th>pm25</th>\n",
              "    </tr>\n",
              "  </thead>\n",
              "  <tbody>\n",
              "    <tr>\n",
              "      <th>0</th>\n",
              "      <td>2018-08-21</td>\n",
              "      <td>26.7</td>\n",
              "      <td>15</td>\n",
              "      <td>1011.5</td>\n",
              "      <td></td>\n",
              "    </tr>\n",
              "    <tr>\n",
              "      <th>1</th>\n",
              "      <td>2018-08-22</td>\n",
              "      <td>28.6</td>\n",
              "      <td>9.4</td>\n",
              "      <td>NaN</td>\n",
              "      <td>93</td>\n",
              "    </tr>\n",
              "    <tr>\n",
              "      <th>2</th>\n",
              "      <td>2018-08-23</td>\n",
              "      <td>30.6</td>\n",
              "      <td>10</td>\n",
              "      <td>NaN</td>\n",
              "      <td>84</td>\n",
              "    </tr>\n",
              "    <tr>\n",
              "      <th>3</th>\n",
              "      <td>2018-08-24</td>\n",
              "      <td>30.7</td>\n",
              "      <td>11.8</td>\n",
              "      <td>1013.1</td>\n",
              "      <td>69</td>\n",
              "    </tr>\n",
              "    <tr>\n",
              "      <th>4</th>\n",
              "      <td>2018-08-26</td>\n",
              "      <td>29.7</td>\n",
              "      <td>9.5</td>\n",
              "      <td>1013.2</td>\n",
              "      <td></td>\n",
              "    </tr>\n",
              "  </tbody>\n",
              "</table>\n",
              "</div>"
            ],
            "text/plain": [
              "         date     t    ws       p pm25\n",
              "0  2018-08-21  26.7    15  1011.5     \n",
              "1  2018-08-22  28.6   9.4     NaN   93\n",
              "2  2018-08-23  30.6    10     NaN   84\n",
              "3  2018-08-24  30.7  11.8  1013.1   69\n",
              "4  2018-08-26  29.7   9.5  1013.2     "
            ]
          },
          "metadata": {
            "tags": []
          },
          "execution_count": 14
        }
      ]
    },
    {
      "cell_type": "markdown",
      "metadata": {
        "id": "PmNiCcJF1PTa"
      },
      "source": [
        "now we remove rows which has empty or NaN cells. we could use data imputaion too but in fact the ramaining from removing columns seems to be enough at the end."
      ]
    },
    {
      "cell_type": "code",
      "metadata": {
        "id": "Lu-fV9cAIvoW"
      },
      "source": [
        "df = df.replace(\" \", np.NaN)\n",
        "df = df.dropna()"
      ],
      "execution_count": 15,
      "outputs": []
    },
    {
      "cell_type": "markdown",
      "metadata": {
        "id": "OokydhTr2poD"
      },
      "source": [
        "lets do some sorting too:"
      ]
    },
    {
      "cell_type": "code",
      "metadata": {
        "id": "mD5Br6XE2NNS"
      },
      "source": [
        "df = df.sort_values(\"date\", ignore_index=True)"
      ],
      "execution_count": 20,
      "outputs": []
    },
    {
      "cell_type": "markdown",
      "metadata": {
        "id": "YWZwrN7425AF"
      },
      "source": [
        "our final clean dataset is ready. lets take a look:"
      ]
    },
    {
      "cell_type": "code",
      "metadata": {
        "colab": {
          "base_uri": "https://localhost:8080/",
          "height": 417
        },
        "id": "MfwwKb93I-XW",
        "outputId": "86504e61-2c84-4d4c-9bcd-7ee1e56f57db"
      },
      "source": [
        "df"
      ],
      "execution_count": 21,
      "outputs": [
        {
          "output_type": "execute_result",
          "data": {
            "text/html": [
              "<div>\n",
              "<style scoped>\n",
              "    .dataframe tbody tr th:only-of-type {\n",
              "        vertical-align: middle;\n",
              "    }\n",
              "\n",
              "    .dataframe tbody tr th {\n",
              "        vertical-align: top;\n",
              "    }\n",
              "\n",
              "    .dataframe thead th {\n",
              "        text-align: right;\n",
              "    }\n",
              "</style>\n",
              "<table border=\"1\" class=\"dataframe\">\n",
              "  <thead>\n",
              "    <tr style=\"text-align: right;\">\n",
              "      <th></th>\n",
              "      <th>date</th>\n",
              "      <th>t</th>\n",
              "      <th>ws</th>\n",
              "      <th>p</th>\n",
              "      <th>pm25</th>\n",
              "    </tr>\n",
              "  </thead>\n",
              "  <tbody>\n",
              "    <tr>\n",
              "      <th>0</th>\n",
              "      <td>2018-08-24</td>\n",
              "      <td>30.7</td>\n",
              "      <td>11.8</td>\n",
              "      <td>1013.1</td>\n",
              "      <td>69</td>\n",
              "    </tr>\n",
              "    <tr>\n",
              "      <th>1</th>\n",
              "      <td>2018-08-27</td>\n",
              "      <td>30.3</td>\n",
              "      <td>8.7</td>\n",
              "      <td>1011.5</td>\n",
              "      <td>84</td>\n",
              "    </tr>\n",
              "    <tr>\n",
              "      <th>2</th>\n",
              "      <td>2018-08-28</td>\n",
              "      <td>30.9</td>\n",
              "      <td>13.6</td>\n",
              "      <td>1011.4</td>\n",
              "      <td>68</td>\n",
              "    </tr>\n",
              "    <tr>\n",
              "      <th>3</th>\n",
              "      <td>2018-08-29</td>\n",
              "      <td>30.8</td>\n",
              "      <td>7.9</td>\n",
              "      <td>1011.6</td>\n",
              "      <td>68</td>\n",
              "    </tr>\n",
              "    <tr>\n",
              "      <th>4</th>\n",
              "      <td>2018-08-30</td>\n",
              "      <td>30.6</td>\n",
              "      <td>9.7</td>\n",
              "      <td>1014.1</td>\n",
              "      <td>91</td>\n",
              "    </tr>\n",
              "    <tr>\n",
              "      <th>...</th>\n",
              "      <td>...</td>\n",
              "      <td>...</td>\n",
              "      <td>...</td>\n",
              "      <td>...</td>\n",
              "      <td>...</td>\n",
              "    </tr>\n",
              "    <tr>\n",
              "      <th>738</th>\n",
              "      <td>2021-06-18</td>\n",
              "      <td>32.0</td>\n",
              "      <td>10.0</td>\n",
              "      <td>1012.4</td>\n",
              "      <td>88</td>\n",
              "    </tr>\n",
              "    <tr>\n",
              "      <th>739</th>\n",
              "      <td>2021-06-19</td>\n",
              "      <td>33.1</td>\n",
              "      <td>12.0</td>\n",
              "      <td>1012.5</td>\n",
              "      <td>94</td>\n",
              "    </tr>\n",
              "    <tr>\n",
              "      <th>740</th>\n",
              "      <td>2021-06-20</td>\n",
              "      <td>31.8</td>\n",
              "      <td>14.5</td>\n",
              "      <td>1016.1</td>\n",
              "      <td>81</td>\n",
              "    </tr>\n",
              "    <tr>\n",
              "      <th>741</th>\n",
              "      <td>2021-06-21</td>\n",
              "      <td>32.1</td>\n",
              "      <td>12.9</td>\n",
              "      <td>1016.8</td>\n",
              "      <td>71</td>\n",
              "    </tr>\n",
              "    <tr>\n",
              "      <th>742</th>\n",
              "      <td>2021-06-22</td>\n",
              "      <td>30.6</td>\n",
              "      <td>12.4</td>\n",
              "      <td>1016.1</td>\n",
              "      <td>90</td>\n",
              "    </tr>\n",
              "  </tbody>\n",
              "</table>\n",
              "<p>743 rows × 5 columns</p>\n",
              "</div>"
            ],
            "text/plain": [
              "           date     t    ws       p pm25\n",
              "0    2018-08-24  30.7  11.8  1013.1   69\n",
              "1    2018-08-27  30.3   8.7  1011.5   84\n",
              "2    2018-08-28  30.9  13.6  1011.4   68\n",
              "3    2018-08-29  30.8   7.9  1011.6   68\n",
              "4    2018-08-30  30.6   9.7  1014.1   91\n",
              "..          ...   ...   ...     ...  ...\n",
              "738  2021-06-18  32.0  10.0  1012.4   88\n",
              "739  2021-06-19  33.1  12.0  1012.5   94\n",
              "740  2021-06-20  31.8  14.5  1016.1   81\n",
              "741  2021-06-21  32.1  12.9  1016.8   71\n",
              "742  2021-06-22  30.6  12.4  1016.1   90\n",
              "\n",
              "[743 rows x 5 columns]"
            ]
          },
          "metadata": {
            "tags": []
          },
          "execution_count": 21
        }
      ]
    },
    {
      "cell_type": "markdown",
      "metadata": {
        "id": "xkTJIUFn3PeS"
      },
      "source": [
        "as you can see our dataset has 743 samples(rows)."
      ]
    },
    {
      "cell_type": "markdown",
      "metadata": {
        "id": "LHugJEBR3XzP"
      },
      "source": [
        "lets see some of it's statistical properties:"
      ]
    },
    {
      "cell_type": "code",
      "metadata": {
        "colab": {
          "base_uri": "https://localhost:8080/",
          "height": 295
        },
        "id": "zFjnp3JuDJpl",
        "outputId": "5f3ee1e5-0853-4b85-a5d7-605fb4065481"
      },
      "source": [
        "df.describe()"
      ],
      "execution_count": 23,
      "outputs": [
        {
          "output_type": "execute_result",
          "data": {
            "text/html": [
              "<div>\n",
              "<style scoped>\n",
              "    .dataframe tbody tr th:only-of-type {\n",
              "        vertical-align: middle;\n",
              "    }\n",
              "\n",
              "    .dataframe tbody tr th {\n",
              "        vertical-align: top;\n",
              "    }\n",
              "\n",
              "    .dataframe thead th {\n",
              "        text-align: right;\n",
              "    }\n",
              "</style>\n",
              "<table border=\"1\" class=\"dataframe\">\n",
              "  <thead>\n",
              "    <tr style=\"text-align: right;\">\n",
              "      <th></th>\n",
              "      <th>t</th>\n",
              "      <th>ws</th>\n",
              "      <th>p</th>\n",
              "    </tr>\n",
              "  </thead>\n",
              "  <tbody>\n",
              "    <tr>\n",
              "      <th>count</th>\n",
              "      <td>743.000000</td>\n",
              "      <td>743.000000</td>\n",
              "      <td>743.000000</td>\n",
              "    </tr>\n",
              "    <tr>\n",
              "      <th>mean</th>\n",
              "      <td>18.473082</td>\n",
              "      <td>11.033782</td>\n",
              "      <td>1016.833917</td>\n",
              "    </tr>\n",
              "    <tr>\n",
              "      <th>std</th>\n",
              "      <td>9.825990</td>\n",
              "      <td>4.821261</td>\n",
              "      <td>5.368766</td>\n",
              "    </tr>\n",
              "    <tr>\n",
              "      <th>min</th>\n",
              "      <td>-2.400000</td>\n",
              "      <td>3.200000</td>\n",
              "      <td>1003.300000</td>\n",
              "    </tr>\n",
              "    <tr>\n",
              "      <th>25%</th>\n",
              "      <td>9.500000</td>\n",
              "      <td>7.700000</td>\n",
              "      <td>1013.100000</td>\n",
              "    </tr>\n",
              "    <tr>\n",
              "      <th>50%</th>\n",
              "      <td>18.200000</td>\n",
              "      <td>10.000000</td>\n",
              "      <td>1016.800000</td>\n",
              "    </tr>\n",
              "    <tr>\n",
              "      <th>75%</th>\n",
              "      <td>27.400000</td>\n",
              "      <td>13.300000</td>\n",
              "      <td>1020.750000</td>\n",
              "    </tr>\n",
              "    <tr>\n",
              "      <th>max</th>\n",
              "      <td>37.500000</td>\n",
              "      <td>33.100000</td>\n",
              "      <td>1032.400000</td>\n",
              "    </tr>\n",
              "  </tbody>\n",
              "</table>\n",
              "</div>"
            ],
            "text/plain": [
              "                t          ws            p\n",
              "count  743.000000  743.000000   743.000000\n",
              "mean    18.473082   11.033782  1016.833917\n",
              "std      9.825990    4.821261     5.368766\n",
              "min     -2.400000    3.200000  1003.300000\n",
              "25%      9.500000    7.700000  1013.100000\n",
              "50%     18.200000   10.000000  1016.800000\n",
              "75%     27.400000   13.300000  1020.750000\n",
              "max     37.500000   33.100000  1032.400000"
            ]
          },
          "metadata": {
            "tags": []
          },
          "execution_count": 23
        }
      ]
    },
    {
      "cell_type": "markdown",
      "metadata": {
        "id": "pXvcDOUt36kT"
      },
      "source": [
        "now we save \"t\", \"ws\" and \"p\" data as x which is our input and save \"pm25\" as y which is our output:"
      ]
    },
    {
      "cell_type": "code",
      "metadata": {
        "id": "tp_IDIGXDvTa"
      },
      "source": [
        "x = df.drop([\"date\", \"pm25\"], axis = 1)\n",
        "y = df[\"pm25\"]"
      ],
      "execution_count": 24,
      "outputs": []
    },
    {
      "cell_type": "markdown",
      "metadata": {
        "id": "eeD3oOoQ4hyk"
      },
      "source": [
        "here we scale our x with minmax, standard and robust scalers and we do pca on it too. we will try these to see which one works better for predicting."
      ]
    },
    {
      "cell_type": "code",
      "metadata": {
        "id": "Rgdn4pW0Mcva"
      },
      "source": [
        "r_scaler = RobustScaler()\n",
        "x_robust = r_scaler.fit_transform(x)\n",
        "x_robust = pd.DataFrame(x_robust, columns= x.columns)\n",
        "\n",
        "s_scaler = StandardScaler()\n",
        "x_standard = s_scaler.fit_transform(x)\n",
        "x_standard = pd.DataFrame(x_standard, columns= x.columns)\n",
        "\n",
        "mm_scaler = MinMaxScaler()\n",
        "x_minmax = mm_scaler.fit_transform(x)\n",
        "x_minmax = pd.DataFrame(x_minmax, columns= x.columns)\n",
        "\n",
        "pca = PCA()\n",
        "x_pca = pca.fit_transform(x)\n",
        "x_pca = pd.DataFrame(x_pca)"
      ],
      "execution_count": 25,
      "outputs": []
    },
    {
      "cell_type": "markdown",
      "metadata": {
        "id": "Jg_kQPGqCE5y"
      },
      "source": [
        "after trying four different x's above, i understood x_standard works better so i just kept the result of that."
      ]
    },
    {
      "cell_type": "markdown",
      "metadata": {
        "id": "TuJMgVyrBqZq"
      },
      "source": [
        "here we split data to test and train:"
      ]
    },
    {
      "cell_type": "code",
      "metadata": {
        "id": "xJ61SBs1FaKC"
      },
      "source": [
        "x_train, x_test, y_train, y_test = train_test_split(x_standard, y)"
      ],
      "execution_count": 55,
      "outputs": []
    },
    {
      "cell_type": "markdown",
      "metadata": {
        "id": "H3jl1rcEC6Bu"
      },
      "source": [
        "here i will try to fit a decison tree model to data. i tried models such as SVM, random forest and... too and i found out that decison tree works better so i just keep the result of that."
      ]
    },
    {
      "cell_type": "markdown",
      "metadata": {
        "id": "5oYx0PicD54f"
      },
      "source": [
        "we plot validiation curve for max depth parameter to see which number gives better results:"
      ]
    },
    {
      "cell_type": "code",
      "metadata": {
        "colab": {
          "base_uri": "https://localhost:8080/",
          "height": 445
        },
        "id": "B9OXnHCXGAaI",
        "outputId": "7a315c7e-afa2-41e4-e912-fedb5e7913ac"
      },
      "source": [
        "reg = DecisionTreeRegressor()\n",
        "\n",
        "cv = ShuffleSplit(n_splits=10)\n",
        "pr = np.arange(1, 20)\n",
        "plot_validation_curve(reg, x_standard, y, pr, 'max_depth',\n",
        "                          cv=cv, Modelname='Decision Tree', n_jobs=-1)\n",
        "plt.grid()"
      ],
      "execution_count": 58,
      "outputs": [
        {
          "output_type": "display_data",
          "data": {
            "image/png": "[encoded data removed]",
            "text/plain": [
              "<Figure size 640x480 with 1 Axes>"
            ]
          },
          "metadata": {
            "tags": [],
            "needs_background": "light"
          }
        }
      ]
    },
    {
      "cell_type": "markdown",
      "metadata": {
        "id": "RZIq-DnxE3G1"
      },
      "source": [
        "the scores of validiation curve aren't really intresting, but it seems for max depth of 3 or 4 score is higher so we will use one of them."
      ]
    },
    {
      "cell_type": "markdown",
      "metadata": {
        "id": "1xmX_JxHFaBe"
      },
      "source": [
        "now we fit the Decision Tree:"
      ]
    },
    {
      "cell_type": "code",
      "metadata": {
        "colab": {
          "base_uri": "https://localhost:8080/"
        },
        "id": "G5jRWqHty_W-",
        "outputId": "a34567cd-2c3a-4c14-c11a-0e4d6cba89fe"
      },
      "source": [
        "reg = DecisionTreeRegressor(max_depth = 3)\n",
        "reg.fit(x_train, y_train)\n",
        "y_pred = reg.predict(x_standard)\n",
        "print(f\"the score on test data is {reg.score(x_test,y_test)}\")"
      ],
      "execution_count": 70,
      "outputs": [
        {
          "output_type": "stream",
          "text": [
            "the score on test data is 0.4070240273428696\n"
          ],
          "name": "stdout"
        }
      ]
    },
    {
      "cell_type": "markdown",
      "metadata": {
        "id": "DeNhgCwiIM4g"
      },
      "source": [
        "the score we get here does not look intresting, it seems it is not predicting well."
      ]
    },
    {
      "cell_type": "markdown",
      "metadata": {
        "id": "ULDF9KwoIZY0"
      },
      "source": [
        "lets take a look at Learning Curve:"
      ]
    },
    {
      "cell_type": "code",
      "metadata": {
        "colab": {
          "base_uri": "https://localhost:8080/",
          "height": 461
        },
        "id": "p7EDz9oJHJf9",
        "outputId": "a3f6428d-1398-4022-a569-32a2d87c8a4d"
      },
      "source": [
        "title = \"Learning Curve\"\n",
        "\n",
        "estimator = DecisionTreeRegressor(max_depth = 3)\n",
        "\n",
        "cv = ShuffleSplit(n_splits=50)\n",
        "plot_learning_curve(estimator, title, x_standard, y, train_sizes=np.linspace(0.001, 1, 20), cv=cv, n_jobs=-1)"
      ],
      "execution_count": 69,
      "outputs": [
        {
          "output_type": "execute_result",
          "data": {
            "text/plain": [
              "<module 'matplotlib.pyplot' from '/usr/local/lib/python3.7/dist-packages/matplotlib/pyplot.py'>"
            ]
          },
          "metadata": {
            "tags": []
          },
          "execution_count": 69
        },
        {
          "output_type": "display_data",
          "data": {
            "image/png": "[encoded data removed]",
            "text/plain": [
              "<Figure size 800x480 with 1 Axes>"
            ]
          },
          "metadata": {
            "tags": [],
            "needs_background": "light"
          }
        }
      ]
    },
    {
      "cell_type": "markdown",
      "metadata": {
        "id": "-HBwjkloKEw_"
      },
      "source": [
        "we can see gap betwin train scores and cross validation scores is closed at the right of the plot, so we might say number of samples we are useing for training is enough. the problem with our model is the features we are useing and we can say it is hard for our model to predict a day's pm25 rate from previous day's avarage temperture, pressure and wind speed.\n",
        " first thing we can do to get a better model is adding data of wind speed direction, humidty and rain  drop and some other features.\n",
        "secondly we can give more precise data. avarage temperture, pressure and wind speed used here is for whole city of tehran. we can get better results if we use the data of the region we are trying to predict pollution. we can even give mentioned features for nearby regions for a more precise model and prediction."
      ]
    },
    {
      "cell_type": "markdown",
      "metadata": {
        "id": "oIq3EBoNOEqT"
      },
      "source": [
        "thanks for your attention! :)"
      ]
    }
  ]
}